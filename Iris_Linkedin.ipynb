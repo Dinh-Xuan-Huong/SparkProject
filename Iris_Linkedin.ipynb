{
 "cells": [
  {
   "cell_type": "code",
   "execution_count": 1,
   "metadata": {},
   "outputs": [],
   "source": [
    "from pyspark import SparkConf, SparkContext\n",
    "from pyspark.sql import SparkSession\n",
    "from pyspark.sql.functions import *\n",
    "from pyspark.ml.feature import VectorAssembler, StringIndexer\n",
    "from pyspark.ml import Pipeline\n",
    "from pyspark.ml.classification import DecisionTreeClassifier\n",
    "from pyspark.ml.evaluation import MulticlassClassificationEvaluator"
   ]
  },
  {
   "cell_type": "code",
   "execution_count": 2,
   "metadata": {},
   "outputs": [],
   "source": [
    "iris_df = spark.read.csv(\"G:\\SparkProject\\Iris data\\Iris Data\\iris.csv\", header=True)"
   ]
  },
  {
   "cell_type": "code",
   "execution_count": 3,
   "metadata": {},
   "outputs": [
    {
     "data": {
      "text/plain": [
       "[Row(sepal.length='5.1', sepal.width='3.5', petal.length='1.4', petal.width='.2', variety='Setosa')]"
      ]
     },
     "execution_count": 3,
     "metadata": {},
     "output_type": "execute_result"
    }
   ],
   "source": [
    "iris_df.take(1)"
   ]
  },
  {
   "cell_type": "code",
   "execution_count": 4,
   "metadata": {},
   "outputs": [
    {
     "name": "stdout",
     "output_type": "stream",
     "text": [
      "<class 'pyspark.sql.dataframe.DataFrame'>\n"
     ]
    }
   ],
   "source": [
    "print(type(iris_df))"
   ]
  },
  {
   "cell_type": "code",
   "execution_count": 5,
   "metadata": {},
   "outputs": [],
   "source": [
    "iris_df = iris_df.withColumnRenamed(\"sepal.length\",\"sepal_length\")\n",
    "iris_df = iris_df.withColumnRenamed(\"sepal.width\",\"sepal_width\")\n",
    "iris_df = iris_df.withColumnRenamed(\"petal.length\",\"petal_length\")\n",
    "iris_df = iris_df.withColumnRenamed(\"petal.width\",\"petal_width\")\n",
    "iris_df = iris_df.withColumnRenamed(\"variety\",\"species\")"
   ]
  },
  {
   "cell_type": "code",
   "execution_count": 6,
   "metadata": {},
   "outputs": [],
   "source": [
    "iris_df = iris_df.withColumn('sepal_length', iris_df.sepal_length.cast(\"double\"))\n",
    "iris_df = iris_df.withColumn('sepal_width', iris_df.sepal_width.cast(\"double\"))\n",
    "iris_df = iris_df.withColumn('petal_length', iris_df.petal_length.cast(\"double\"))\n",
    "iris_df = iris_df.withColumn('petal_width', iris_df.petal_width.cast(\"double\"))"
   ]
  },
  {
   "cell_type": "code",
   "execution_count": 7,
   "metadata": {},
   "outputs": [],
   "source": [
    "#iris_df.take(1)"
   ]
  },
  {
   "cell_type": "code",
   "execution_count": 8,
   "metadata": {},
   "outputs": [],
   "source": [
    "indexer = StringIndexer(inputCol='species', outputCol='label')"
   ]
  },
  {
   "cell_type": "code",
   "execution_count": 9,
   "metadata": {},
   "outputs": [],
   "source": [
    "vectorAssembler = VectorAssembler(inputCols=['sepal_length','sepal_width',\n",
    "                                           'petal_length','petal_width'], outputCol='features')"
   ]
  },
  {
   "cell_type": "code",
   "execution_count": 10,
   "metadata": {},
   "outputs": [],
   "source": [
    "dclassifier = DecisionTreeClassifier(labelCol='label', featuresCol='features')"
   ]
  },
  {
   "cell_type": "code",
   "execution_count": 11,
   "metadata": {},
   "outputs": [],
   "source": [
    "iris_pipe = Pipeline(stages=[indexer, vectorAssembler, dclassifier])"
   ]
  },
  {
   "cell_type": "code",
   "execution_count": 12,
   "metadata": {},
   "outputs": [],
   "source": [
    "(train_df, test_df) = iris_df.randomSplit([0.6, 0.4],1)"
   ]
  },
  {
   "cell_type": "code",
   "execution_count": 13,
   "metadata": {},
   "outputs": [],
   "source": [
    "dt_model = iris_pipe.fit(train_df)\n",
    "dt_predictions = dt_model.transform(test_df)"
   ]
  },
  {
   "cell_type": "code",
   "execution_count": 14,
   "metadata": {},
   "outputs": [],
   "source": [
    "#Evaluate\n",
    "dt_evaluator = MulticlassClassificationEvaluator(labelCol='label', predictionCol='prediction', metricName='accuracy')"
   ]
  },
  {
   "cell_type": "code",
   "execution_count": 16,
   "metadata": {},
   "outputs": [],
   "source": [
    "dt_accuracy = dt_evaluator.evaluate(dt_predictions)"
   ]
  },
  {
   "cell_type": "code",
   "execution_count": 17,
   "metadata": {},
   "outputs": [
    {
     "name": "stdout",
     "output_type": "stream",
     "text": [
      "0.9310344827586207\n"
     ]
    }
   ],
   "source": [
    "print(dt_accuracy)"
   ]
  },
  {
   "cell_type": "code",
   "execution_count": 18,
   "metadata": {},
   "outputs": [
    {
     "name": "stdout",
     "output_type": "stream",
     "text": [
      "+----------+----------+-----+\n",
      "|prediction|   species|label|\n",
      "+----------+----------+-----+\n",
      "|       1.0|    Setosa|  1.0|\n",
      "|       1.0|    Setosa|  1.0|\n",
      "|       1.0|    Setosa|  1.0|\n",
      "|       1.0|    Setosa|  1.0|\n",
      "|       0.0|Versicolor|  0.0|\n",
      "|       1.0|    Setosa|  1.0|\n",
      "|       1.0|    Setosa|  1.0|\n",
      "|       1.0|    Setosa|  1.0|\n",
      "|       1.0|    Setosa|  1.0|\n",
      "|       1.0|    Setosa|  1.0|\n",
      "|       0.0|Versicolor|  0.0|\n",
      "|       1.0|    Setosa|  1.0|\n",
      "|       1.0|    Setosa|  1.0|\n",
      "|       1.0|    Setosa|  1.0|\n",
      "|       1.0|    Setosa|  1.0|\n",
      "|       1.0|    Setosa|  1.0|\n",
      "|       1.0|    Setosa|  1.0|\n",
      "|       1.0|    Setosa|  1.0|\n",
      "|       1.0|    Setosa|  1.0|\n",
      "|       0.0|Versicolor|  0.0|\n",
      "+----------+----------+-----+\n",
      "only showing top 20 rows\n",
      "\n"
     ]
    }
   ],
   "source": [
    "dt_predictions.select('prediction','species','label').show()"
   ]
  },
  {
   "cell_type": "code",
   "execution_count": 19,
   "metadata": {},
   "outputs": [
    {
     "name": "stdout",
     "output_type": "stream",
     "text": [
      "+-----+----------+-----+\n",
      "|label|prediction|count|\n",
      "+-----+----------+-----+\n",
      "|  2.0|       0.0|    3|\n",
      "|  1.0|       1.0|   18|\n",
      "|  2.0|       2.0|   21|\n",
      "|  0.0|       0.0|   15|\n",
      "|  0.0|       2.0|    1|\n",
      "+-----+----------+-----+\n",
      "\n"
     ]
    }
   ],
   "source": [
    "dt_predictions.groupBy('label','prediction').count().show()"
   ]
  }
 ],
 "metadata": {
  "kernelspec": {
   "display_name": "Python 3",
   "language": "python",
   "name": "python3"
  },
  "language_info": {
   "codemirror_mode": {
    "name": "ipython",
    "version": 3
   },
   "file_extension": ".py",
   "mimetype": "text/x-python",
   "name": "python",
   "nbconvert_exporter": "python",
   "pygments_lexer": "ipython3",
   "version": "3.6.5"
  }
 },
 "nbformat": 4,
 "nbformat_minor": 2
}
