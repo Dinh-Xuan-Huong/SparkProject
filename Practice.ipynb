{
 "cells": [
  {
   "cell_type": "code",
   "execution_count": 1,
   "metadata": {},
   "outputs": [],
   "source": [
    "from pyspark import SparkConf, SparkContext"
   ]
  },
  {
   "cell_type": "code",
   "execution_count": 2,
   "metadata": {},
   "outputs": [],
   "source": [
    "Conf = SparkConf().setMaster(\"local[*]\").setAppName(\"MyApp\")\n",
    "sc = SparkContext.getOrCreate(conf=Conf)"
   ]
  },
  {
   "cell_type": "raw",
   "metadata": {},
   "source": [
    "Load the data"
   ]
  },
  {
   "cell_type": "code",
   "execution_count": 3,
   "metadata": {},
   "outputs": [
    {
     "name": "stdout",
     "output_type": "stream",
     "text": [
      "<class 'pyspark.rdd.RDD'>\n",
      "421970\n"
     ]
    }
   ],
   "source": [
    "# Load the data \n",
    "raw_content = sc.textFile(\"2015-12-12.csv\")\n",
    "\n",
    "# Print the type of the object\n",
    "print(type(raw_content))\n",
    "\n",
    "# Print the number of lines\n",
    "print(raw_content.count())"
   ]
  },
  {
   "cell_type": "code",
   "execution_count": 4,
   "metadata": {},
   "outputs": [
    {
     "name": "stdout",
     "output_type": "stream",
     "text": [
      "['\"date\",\"time\",\"size\",\"r_version\",\"r_arch\",\"r_os\",\"package\",\"version\",\"country\",\"ip_id\"', '\"2015-12-12\",\"13:42:10\",257886,\"3.2.2\",\"i386\",\"mingw32\",\"HistData\",\"0.7-6\",\"CZ\",1', '\"2015-12-12\",\"13:24:37\",1236751,\"3.2.2\",\"x86_64\",\"mingw32\",\"RJSONIO\",\"1.3-0\",\"DE\",2', '\"2015-12-12\",\"13:42:35\",2077876,\"3.2.2\",\"i386\",\"mingw32\",\"UsingR\",\"2.0-5\",\"CZ\",1', '\"2015-12-12\",\"13:42:01\",266724,\"3.2.2\",\"i386\",\"mingw32\",\"gridExtra\",\"2.0.0\",\"CZ\",1']\n"
     ]
    }
   ],
   "source": [
    "# Print first five elements\n",
    "print(raw_content.take(5))"
   ]
  },
  {
   "cell_type": "markdown",
   "metadata": {},
   "source": [
    "Split or replace operation by map"
   ]
  },
  {
   "cell_type": "code",
   "execution_count": 5,
   "metadata": {},
   "outputs": [
    {
     "data": {
      "text/plain": [
       "[['\"date\"',\n",
       "  '\"time\"',\n",
       "  '\"size\"',\n",
       "  '\"r_version\"',\n",
       "  '\"r_arch\"',\n",
       "  '\"r_os\"',\n",
       "  '\"package\"',\n",
       "  '\"version\"',\n",
       "  '\"country\"',\n",
       "  '\"ip_id\"'],\n",
       " ['\"2015-12-12\"',\n",
       "  '\"13:42:10\"',\n",
       "  '257886',\n",
       "  '\"3.2.2\"',\n",
       "  '\"i386\"',\n",
       "  '\"mingw32\"',\n",
       "  '\"HistData\"',\n",
       "  '\"0.7-6\"',\n",
       "  '\"CZ\"',\n",
       "  '1'],\n",
       " ['\"2015-12-12\"',\n",
       "  '\"13:24:37\"',\n",
       "  '1236751',\n",
       "  '\"3.2.2\"',\n",
       "  '\"x86_64\"',\n",
       "  '\"mingw32\"',\n",
       "  '\"RJSONIO\"',\n",
       "  '\"1.3-0\"',\n",
       "  '\"DE\"',\n",
       "  '2']]"
      ]
     },
     "execution_count": 5,
     "metadata": {},
     "output_type": "execute_result"
    }
   ],
   "source": [
    "content = raw_content.map(lambda x: x.split(\",\"))\n",
    "content.take(3)"
   ]
  },
  {
   "cell_type": "code",
   "execution_count": 6,
   "metadata": {},
   "outputs": [],
   "source": [
    "def clean(x):\n",
    "    return ([xx.replace('\"','') for xx in x])"
   ]
  },
  {
   "cell_type": "code",
   "execution_count": 7,
   "metadata": {},
   "outputs": [
    {
     "data": {
      "text/plain": [
       "[['date',\n",
       "  'time',\n",
       "  'size',\n",
       "  'r_version',\n",
       "  'r_arch',\n",
       "  'r_os',\n",
       "  'package',\n",
       "  'version',\n",
       "  'country',\n",
       "  'ip_id'],\n",
       " ['2015-12-12',\n",
       "  '13:42:10',\n",
       "  '257886',\n",
       "  '3.2.2',\n",
       "  'i386',\n",
       "  'mingw32',\n",
       "  'HistData',\n",
       "  '0.7-6',\n",
       "  'CZ',\n",
       "  '1'],\n",
       " ['2015-12-12',\n",
       "  '13:24:37',\n",
       "  '1236751',\n",
       "  '3.2.2',\n",
       "  'x86_64',\n",
       "  'mingw32',\n",
       "  'RJSONIO',\n",
       "  '1.3-0',\n",
       "  'DE',\n",
       "  '2']]"
      ]
     },
     "execution_count": 7,
     "metadata": {},
     "output_type": "execute_result"
    }
   ],
   "source": [
    "content = content.map(clean)\n",
    "content.take(3)"
   ]
  },
  {
   "cell_type": "code",
   "execution_count": 8,
   "metadata": {
    "scrolled": true
   },
   "outputs": [
    {
     "data": {
      "text/plain": [
       "[['date',\n",
       "  'time',\n",
       "  'size',\n",
       "  'r_version',\n",
       "  'r_arch',\n",
       "  'r_os',\n",
       "  'package',\n",
       "  'version',\n",
       "  'country',\n",
       "  'ip_id'],\n",
       " ['2015-12-12',\n",
       "  '13:42:10',\n",
       "  '257886',\n",
       "  '3.2.2',\n",
       "  'i386',\n",
       "  'mingw32',\n",
       "  'HistData',\n",
       "  '0.7-6',\n",
       "  'CZ',\n",
       "  '1'],\n",
       " ['2015-12-12',\n",
       "  '13:24:37',\n",
       "  '1236751',\n",
       "  '3.2.2',\n",
       "  'x86_64',\n",
       "  'mingw32',\n",
       "  'RJSONIO',\n",
       "  '1.3-0',\n",
       "  'DE',\n",
       "  '2']]"
      ]
     },
     "execution_count": 8,
     "metadata": {},
     "output_type": "execute_result"
    }
   ],
   "source": [
    "tmp_content = raw_content.map(lambda x: x.split(\",\")).map(clean)\n",
    "tmp_content.take(3)"
   ]
  },
  {
   "cell_type": "raw",
   "metadata": {},
   "source": [
    "Compare map and flatMap func"
   ]
  },
  {
   "cell_type": "code",
   "execution_count": 9,
   "metadata": {},
   "outputs": [
    {
     "name": "stdout",
     "output_type": "stream",
     "text": [
      "[['a', 'b', 'c'], ['d', 'e'], ['f', 'g', 'h']]\n"
     ]
    }
   ],
   "source": [
    "text = ['a b c','d e','f g h']\n",
    "tmp1 = sc.parallelize(text).map(lambda x: x.split(\" \")).collect()\n",
    "print(tmp1)"
   ]
  },
  {
   "cell_type": "code",
   "execution_count": 10,
   "metadata": {},
   "outputs": [
    {
     "name": "stdout",
     "output_type": "stream",
     "text": [
      "['a', 'b', 'c', 'd', 'e', 'f', 'g', 'h']\n"
     ]
    }
   ],
   "source": [
    "tmp2 = sc.parallelize(text).flatMap(lambda x: x.split(\" \")).collect()\n",
    "print(tmp2)"
   ]
  },
  {
   "cell_type": "raw",
   "metadata": {},
   "source": [
    "Reduce and Counting"
   ]
  },
  {
   "cell_type": "code",
   "execution_count": 11,
   "metadata": {},
   "outputs": [
    {
     "data": {
      "text/plain": [
       "8660"
      ]
     },
     "execution_count": 11,
     "metadata": {},
     "output_type": "execute_result"
    }
   ],
   "source": [
    "package_count = content.map(lambda x: (x[6],1)).reduceByKey(lambda a,b: a+b)\n",
    "package_count.count()"
   ]
  },
  {
   "cell_type": "code",
   "execution_count": 12,
   "metadata": {},
   "outputs": [
    {
     "data": {
      "text/plain": [
       "[('HistData', 159),\n",
       " ('UsingR', 151),\n",
       " ('lme4', 1560),\n",
       " ('testthat', 1178),\n",
       " ('maps', 1586)]"
      ]
     },
     "execution_count": 12,
     "metadata": {},
     "output_type": "execute_result"
    }
   ],
   "source": [
    "package_count.take(5)"
   ]
  },
  {
   "cell_type": "code",
   "execution_count": 13,
   "metadata": {},
   "outputs": [
    {
     "name": "stdout",
     "output_type": "stream",
     "text": [
      "<class 'collections.defaultdict'>\n"
     ]
    }
   ],
   "source": [
    "package_count_2 = content.map(lambda x: (x[6],1)).countByKey()\n",
    "print(type(package_count_2))"
   ]
  },
  {
   "cell_type": "code",
   "execution_count": 14,
   "metadata": {},
   "outputs": [
    {
     "data": {
      "text/plain": [
       "3913"
      ]
     },
     "execution_count": 14,
     "metadata": {},
     "output_type": "execute_result"
    }
   ],
   "source": [
    "package_count_2['ggplot2']"
   ]
  },
  {
   "cell_type": "code",
   "execution_count": 15,
   "metadata": {},
   "outputs": [
    {
     "data": {
      "text/plain": [
       "25"
      ]
     },
     "execution_count": 15,
     "metadata": {},
     "output_type": "execute_result"
    }
   ],
   "source": [
    "package_count_2['stm']"
   ]
  },
  {
   "cell_type": "code",
   "execution_count": 17,
   "metadata": {},
   "outputs": [
    {
     "data": {
      "text/plain": [
       "[(4783, 'Rcpp'),\n",
       " (3913, 'ggplot2'),\n",
       " (3748, 'stringi'),\n",
       " (3449, 'stringr'),\n",
       " (3436, 'plyr'),\n",
       " (3265, 'magrittr'),\n",
       " (3223, 'digest'),\n",
       " (3205, 'reshape2'),\n",
       " (3046, 'RColorBrewer'),\n",
       " (3007, 'scales')]"
      ]
     },
     "execution_count": 17,
     "metadata": {},
     "output_type": "execute_result"
    }
   ],
   "source": [
    "package_count.map(lambda x: (x[1],x[0])).sortByKey(0).take(10)"
   ]
  },
  {
   "cell_type": "code",
   "execution_count": 18,
   "metadata": {},
   "outputs": [
    {
     "data": {
      "text/plain": [
       "1"
      ]
     },
     "execution_count": 18,
     "metadata": {},
     "output_type": "execute_result"
    }
   ],
   "source": [
    "content.filter(lambda x: x[6] == 'Rtts' and x[8] == 'CN').count()"
   ]
  },
  {
   "cell_type": "code",
   "execution_count": 19,
   "metadata": {},
   "outputs": [
    {
     "data": {
      "text/plain": [
       "[['2015-12-12',\n",
       "  '20:15:24',\n",
       "  '23820',\n",
       "  '3.2.2',\n",
       "  'x86_64',\n",
       "  'mingw32',\n",
       "  'Rtts',\n",
       "  '0.3.3',\n",
       "  'CN',\n",
       "  '41']]"
      ]
     },
     "execution_count": 19,
     "metadata": {},
     "output_type": "execute_result"
    }
   ],
   "source": [
    "content.filter(lambda x: x[6] == 'Rtts' and x[8] == 'CN').take(1)"
   ]
  },
  {
   "cell_type": "code",
   "execution_count": 20,
   "metadata": {},
   "outputs": [
    {
     "data": {
      "text/plain": [
       "421970"
      ]
     },
     "execution_count": 20,
     "metadata": {},
     "output_type": "execute_result"
    }
   ],
   "source": [
    "raw_content.count()"
   ]
  },
  {
   "cell_type": "code",
   "execution_count": 21,
   "metadata": {},
   "outputs": [
    {
     "data": {
      "text/plain": [
       "843940"
      ]
     },
     "execution_count": 21,
     "metadata": {},
     "output_type": "execute_result"
    }
   ],
   "source": [
    "raw_content.union(raw_content).count()"
   ]
  },
  {
   "cell_type": "code",
   "execution_count": 22,
   "metadata": {},
   "outputs": [
    {
     "data": {
      "text/plain": [
       "421553"
      ]
     },
     "execution_count": 22,
     "metadata": {},
     "output_type": "execute_result"
    }
   ],
   "source": [
    "raw_content.distinct().count()"
   ]
  },
  {
   "cell_type": "code",
   "execution_count": 24,
   "metadata": {},
   "outputs": [
    {
     "data": {
      "text/plain": [
       "421553"
      ]
     },
     "execution_count": 24,
     "metadata": {},
     "output_type": "execute_result"
    }
   ],
   "source": [
    "raw_content.intersection(raw_content).count()"
   ]
  },
  {
   "cell_type": "code",
   "execution_count": 25,
   "metadata": {},
   "outputs": [],
   "source": [
    "content_modified = content.map(lambda x: (x[8],x))"
   ]
  },
  {
   "cell_type": "code",
   "execution_count": 26,
   "metadata": {},
   "outputs": [],
   "source": [
    "mapping = [('DE','Germany'),('US','United States'),('CN','China'),('IN','India')]\n",
    "mapping = sc.parallelize(mapping)"
   ]
  },
  {
   "cell_type": "code",
   "execution_count": 27,
   "metadata": {},
   "outputs": [
    {
     "data": {
      "text/plain": [
       "[('CN',\n",
       "  (['2015-12-12',\n",
       "    '03:48:48',\n",
       "    '14271402',\n",
       "    '3.2.3',\n",
       "    'x86_64',\n",
       "    'mingw32',\n",
       "    'stringi',\n",
       "    '1.0-1',\n",
       "    'CN',\n",
       "    '533'],\n",
       "   'China')),\n",
       " ('US',\n",
       "  (['2015-12-12',\n",
       "    '08:57:26',\n",
       "    '3595507',\n",
       "    '3.2.2',\n",
       "    'x86_64',\n",
       "    'mingw32',\n",
       "    'maps',\n",
       "    '3.0.1',\n",
       "    'US',\n",
       "    '990'],\n",
       "   'United States')),\n",
       " ('CN',\n",
       "  (['2015-12-12',\n",
       "    '21:02:13',\n",
       "    '514',\n",
       "    'NA',\n",
       "    'NA',\n",
       "    'NA',\n",
       "    'MethComp',\n",
       "    '1.3',\n",
       "    'CN',\n",
       "    '1809'],\n",
       "   'China')),\n",
       " ('US',\n",
       "  (['2015-12-12',\n",
       "    '05:10:49',\n",
       "    '917417',\n",
       "    '3.2.3',\n",
       "    'x86_64',\n",
       "    'mingw32',\n",
       "    'RCurl',\n",
       "    '1.95-4.7',\n",
       "    'US',\n",
       "    '5716'],\n",
       "   'United States')),\n",
       " ('US',\n",
       "  (['2015-12-12',\n",
       "    '03:05:22',\n",
       "    '144913',\n",
       "    '3.2.3',\n",
       "    'x86_64',\n",
       "    'linux-gnu',\n",
       "    'R6',\n",
       "    '2.1.1',\n",
       "    'US',\n",
       "    '7761'],\n",
       "   'United States')),\n",
       " ('CN',\n",
       "  (['2015-12-12',\n",
       "    '18:15:40',\n",
       "    '14616',\n",
       "    'NA',\n",
       "    'NA',\n",
       "    'NA',\n",
       "    'xlsxjars',\n",
       "    '0.6.1',\n",
       "    'CN',\n",
       "    '483'],\n",
       "   'China')),\n",
       " ('CN',\n",
       "  (['2015-12-12',\n",
       "    '02:46:14',\n",
       "    '504153',\n",
       "    '3.2.3',\n",
       "    'x86_64',\n",
       "    'linux-gnu',\n",
       "    'reshape2',\n",
       "    '1.4.1',\n",
       "    'CN',\n",
       "    '2098'],\n",
       "   'China')),\n",
       " ('US',\n",
       "  (['2015-12-12',\n",
       "    '01:08:22',\n",
       "    '201190',\n",
       "    '3.2.3',\n",
       "    'x86_64',\n",
       "    'linux-gnu',\n",
       "    'irlba',\n",
       "    '2.0.0',\n",
       "    'US',\n",
       "    '14577'],\n",
       "   'United States'))]"
      ]
     },
     "execution_count": 27,
     "metadata": {},
     "output_type": "execute_result"
    }
   ],
   "source": [
    "content_modified.join(mapping).takeSample(False,8)"
   ]
  },
  {
   "cell_type": "code",
   "execution_count": null,
   "metadata": {},
   "outputs": [],
   "source": []
  }
 ],
 "metadata": {
  "kernelspec": {
   "display_name": "Python 3",
   "language": "python",
   "name": "python3"
  },
  "language_info": {
   "codemirror_mode": {
    "name": "ipython",
    "version": 3
   },
   "file_extension": ".py",
   "mimetype": "text/x-python",
   "name": "python",
   "nbconvert_exporter": "python",
   "pygments_lexer": "ipython3",
   "version": "3.6.5"
  }
 },
 "nbformat": 4,
 "nbformat_minor": 2
}
